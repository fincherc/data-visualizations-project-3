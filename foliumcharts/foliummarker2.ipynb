{
 "cells": [
  {
   "cell_type": "code",
   "execution_count": 7,
   "metadata": {},
   "outputs": [],
   "source": [
    "import numpy as np\n",
    "import matplotlib.pyplot as plt\n",
    "import seaborn as sns\n",
    "import pandas as pd\n",
    "from pathlib import Path\n",
    "import folium "
   ]
  },
  {
   "cell_type": "code",
   "execution_count": 8,
   "metadata": {},
   "outputs": [],
   "source": [
    "csv_path = Path(\"/Users/sarahdutton/Desktop/data-visualizations-project-3/AustinTXAccidentsData3.csv\")\n",
    "\n",
    "# Import the comic_books_expanded.csv file as a DataFrame\n",
    "traffic_df = pd.read_csv(csv_path, encoding=\"utf-8\")\n",
    "\n"
   ]
  },
  {
   "cell_type": "code",
   "execution_count": 9,
   "metadata": {},
   "outputs": [],
   "source": [
    "# set variables for Austin lat and long \n",
    "aus_lat = 30.2\n",
    "aus_lng = -97.7"
   ]
  },
  {
   "cell_type": "code",
   "execution_count": 10,
   "metadata": {},
   "outputs": [],
   "source": [
    "from folium import plugins\n",
    "\n",
    "# let's start again with a clean copy of the map of San Francisco\n",
    "aus_map = folium.Map(location=[aus_lat, aus_lng], zoom_start=12)\n",
    "\n",
    "# instantiate a mark cluster object for the incidents in the dataframe\n",
    "accidents = plugins.MarkerCluster().add_to(aus_map)\n",
    "\n",
    "# loop through the dataframe and add each data point to the mark cluster\n",
    "for lat, lng, label in zip(traffic_df.Start_Lat.dropna(), \n",
    "                           traffic_df.Start_Lng.dropna(), \n",
    "                           traffic_df.Severity.dropna()):\n",
    "     folium.Marker(\n",
    "        location=[lat, lng],\n",
    "        icon=None,\n",
    "        popup=label,\n",
    "    ).add_to(accidents)\n",
    "\n",
    "\n",
    "\n",
    "aus_map.save(\"aus_heatmarker.html\")"
   ]
  }
 ],
 "metadata": {
  "kernelspec": {
   "display_name": "dev",
   "language": "python",
   "name": "python3"
  },
  "language_info": {
   "codemirror_mode": {
    "name": "ipython",
    "version": 3
   },
   "file_extension": ".py",
   "mimetype": "text/x-python",
   "name": "python",
   "nbconvert_exporter": "python",
   "pygments_lexer": "ipython3",
   "version": "3.10.14"
  }
 },
 "nbformat": 4,
 "nbformat_minor": 2
}
